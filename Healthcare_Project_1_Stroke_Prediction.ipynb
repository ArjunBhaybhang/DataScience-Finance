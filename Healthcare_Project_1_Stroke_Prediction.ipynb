{
  "nbformat": 4,
  "nbformat_minor": 0,
  "metadata": {
    "colab": {
      "name": "Healthcare Project 1 - Stroke Prediction.ipynb",
      "provenance": [],
      "collapsed_sections": [],
      "mount_file_id": "1eczED5_Dhkni3dLZVSIB0Sy8No1iGha-",
      "authorship_tag": "ABX9TyNsLeBsgB6ipZDxdvpdhDux",
      "include_colab_link": true
    },
    "kernelspec": {
      "name": "python3",
      "display_name": "Python 3"
    },
    "language_info": {
      "name": "python"
    }
  },
  "cells": [
    {
      "cell_type": "markdown",
      "metadata": {
        "id": "view-in-github",
        "colab_type": "text"
      },
      "source": [
        "<a href=\"https://colab.research.google.com/github/ArjunBhaybhang/Public-Projects/blob/main/Healthcare_Project_1_Stroke_Prediction.ipynb\" target=\"_parent\"><img src=\"https://colab.research.google.com/assets/colab-badge.svg\" alt=\"Open In Colab\"/></a>"
      ]
    },
    {
      "cell_type": "markdown",
      "metadata": {
        "id": "S1CNvz4PgrPk"
      },
      "source": [
        "# Applying Support Vector Machines using SVM with extensive Exploratory Data Analysis.\n",
        "    \n",
        "\n",
        "\n",
        "*In this project, we will predict whether a patient will have a heart stroke or not based on his/her comorbidities, work, and lifestyle*\n",
        "\n",
        "\n"
      ]
    },
    {
      "cell_type": "markdown",
      "metadata": {
        "id": "x63fW0jIo8xY"
      },
      "source": [
        "Context\n",
        "\n",
        "According to the World Health Organization (WHO) stroke is the 2nd leading cause of death globally, responsible for approximately 11% of total deaths.\n",
        "\n",
        "This dataset is used to predict whether a patient is likely to get stroke based on the input parameters like gender, age, various diseases, and smoking status. Each row in the data provides relavant information about the patient.\n",
        "\n"
      ]
    },
    {
      "cell_type": "markdown",
      "metadata": {
        "id": "ptvIZy6ehCMj"
      },
      "source": [
        "# Imports"
      ]
    },
    {
      "cell_type": "code",
      "metadata": {
        "id": "g6YUiobuhAFq"
      },
      "source": [
        "%load_ext google.colab.data_table\n",
        "import numpy as np\n",
        "import pandas as pd\n",
        "import matplotlib.pyplot as plt\n",
        "import seaborn as sns\n",
        "sns.set_style('white')"
      ],
      "execution_count": 1,
      "outputs": []
    },
    {
      "cell_type": "markdown",
      "metadata": {
        "id": "rlEJokQrh-WO"
      },
      "source": [
        "# Load Data"
      ]
    },
    {
      "cell_type": "code",
      "metadata": {
        "id": "RhEsZrpch9b9"
      },
      "source": [
        "df_w = pd.read_csv('/content/drive/MyDrive/DATA Projects/Healthcare Projects/Healthcare Project 1 Stroke Prediction/healthcare-dataset-stroke-data.csv')\n",
        "df = df_w.drop('id',axis=1)"
      ],
      "execution_count": 2,
      "outputs": []
    },
    {
      "cell_type": "markdown",
      "metadata": {
        "id": "YX8_S-e5lM9U"
      },
      "source": [
        "# Data Cleaning"
      ]
    },
    {
      "cell_type": "markdown",
      "metadata": {
        "id": "vyVhpEdOlvMG"
      },
      "source": [
        "The dataset consists of 5110 instances with following features with target being stroke\n",
        "\n"
      ]
    },
    {
      "cell_type": "code",
      "metadata": {
        "colab": {
          "base_uri": "https://localhost:8080/",
          "height": 0
        },
        "id": "EZY-oSQIkvQq",
        "outputId": "d6b39456-e09c-468c-bab6-2927098ae39c"
      },
      "source": [
        "df.info()"
      ],
      "execution_count": 3,
      "outputs": [
        {
          "output_type": "stream",
          "name": "stdout",
          "text": [
            "<class 'pandas.core.frame.DataFrame'>\n",
            "RangeIndex: 5110 entries, 0 to 5109\n",
            "Data columns (total 11 columns):\n",
            " #   Column             Non-Null Count  Dtype  \n",
            "---  ------             --------------  -----  \n",
            " 0   gender             5110 non-null   object \n",
            " 1   age                5110 non-null   float64\n",
            " 2   hypertension       5110 non-null   int64  \n",
            " 3   heart_disease      5110 non-null   int64  \n",
            " 4   ever_married       5110 non-null   object \n",
            " 5   work_type          5110 non-null   object \n",
            " 6   Residence_type     5110 non-null   object \n",
            " 7   avg_glucose_level  5110 non-null   float64\n",
            " 8   bmi                4909 non-null   float64\n",
            " 9   smoking_status     5110 non-null   object \n",
            " 10  stroke             5110 non-null   int64  \n",
            "dtypes: float64(3), int64(3), object(5)\n",
            "memory usage: 439.3+ KB\n"
          ]
        }
      ]
    },
    {
      "cell_type": "code",
      "metadata": {
        "colab": {
          "base_uri": "https://localhost:8080/",
          "height": 257
        },
        "id": "0Fhz-tMoD_Ic",
        "outputId": "6377c41a-0b28-43cc-aa9f-95f921a4c856"
      },
      "source": [
        "df.describe()"
      ],
      "execution_count": 4,
      "outputs": [
        {
          "output_type": "execute_result",
          "data": {
            "application/vnd.google.colaboratory.module+javascript": "\n      import \"https://ssl.gstatic.com/colaboratory/data_table/a6224c040fa35dcf/data_table.js\";\n\n      window.createDataTable({\n        data: [[\"count\",\n{\n            'v': 5110.0,\n            'f': \"5110.0\",\n        },\n{\n            'v': 5110.0,\n            'f': \"5110.0\",\n        },\n{\n            'v': 5110.0,\n            'f': \"5110.0\",\n        },\n{\n            'v': 5110.0,\n            'f': \"5110.0\",\n        },\n{\n            'v': 4909.0,\n            'f': \"4909.0\",\n        },\n{\n            'v': 5110.0,\n            'f': \"5110.0\",\n        }],\n [\"mean\",\n{\n            'v': 43.226614481409015,\n            'f': \"43.226614481409015\",\n        },\n{\n            'v': 0.0974559686888454,\n            'f': \"0.0974559686888454\",\n        },\n{\n            'v': 0.05401174168297456,\n            'f': \"0.05401174168297456\",\n        },\n{\n            'v': 106.14767710371804,\n            'f': \"106.14767710371804\",\n        },\n{\n            'v': 28.893236911794673,\n            'f': \"28.893236911794673\",\n        },\n{\n            'v': 0.0487279843444227,\n            'f': \"0.0487279843444227\",\n        }],\n [\"std\",\n{\n            'v': 22.61264672311352,\n            'f': \"22.61264672311352\",\n        },\n{\n            'v': 0.29660667423378534,\n            'f': \"0.29660667423378534\",\n        },\n{\n            'v': 0.22606298750336476,\n            'f': \"0.22606298750336476\",\n        },\n{\n            'v': 45.28356015058203,\n            'f': \"45.28356015058203\",\n        },\n{\n            'v': 7.854066729680158,\n            'f': \"7.854066729680158\",\n        },\n{\n            'v': 0.21531985698026107,\n            'f': \"0.21531985698026107\",\n        }],\n [\"min\",\n{\n            'v': 0.08,\n            'f': \"0.08\",\n        },\n{\n            'v': 0.0,\n            'f': \"0.0\",\n        },\n{\n            'v': 0.0,\n            'f': \"0.0\",\n        },\n{\n            'v': 55.12,\n            'f': \"55.12\",\n        },\n{\n            'v': 10.3,\n            'f': \"10.3\",\n        },\n{\n            'v': 0.0,\n            'f': \"0.0\",\n        }],\n [\"25%\",\n{\n            'v': 25.0,\n            'f': \"25.0\",\n        },\n{\n            'v': 0.0,\n            'f': \"0.0\",\n        },\n{\n            'v': 0.0,\n            'f': \"0.0\",\n        },\n{\n            'v': 77.24499999999999,\n            'f': \"77.24499999999999\",\n        },\n{\n            'v': 23.5,\n            'f': \"23.5\",\n        },\n{\n            'v': 0.0,\n            'f': \"0.0\",\n        }],\n [\"50%\",\n{\n            'v': 45.0,\n            'f': \"45.0\",\n        },\n{\n            'v': 0.0,\n            'f': \"0.0\",\n        },\n{\n            'v': 0.0,\n            'f': \"0.0\",\n        },\n{\n            'v': 91.88499999999999,\n            'f': \"91.88499999999999\",\n        },\n{\n            'v': 28.1,\n            'f': \"28.1\",\n        },\n{\n            'v': 0.0,\n            'f': \"0.0\",\n        }],\n [\"75%\",\n{\n            'v': 61.0,\n            'f': \"61.0\",\n        },\n{\n            'v': 0.0,\n            'f': \"0.0\",\n        },\n{\n            'v': 0.0,\n            'f': \"0.0\",\n        },\n{\n            'v': 114.09,\n            'f': \"114.09\",\n        },\n{\n            'v': 33.1,\n            'f': \"33.1\",\n        },\n{\n            'v': 0.0,\n            'f': \"0.0\",\n        }],\n [\"max\",\n{\n            'v': 82.0,\n            'f': \"82.0\",\n        },\n{\n            'v': 1.0,\n            'f': \"1.0\",\n        },\n{\n            'v': 1.0,\n            'f': \"1.0\",\n        },\n{\n            'v': 271.74,\n            'f': \"271.74\",\n        },\n{\n            'v': 97.6,\n            'f': \"97.6\",\n        },\n{\n            'v': 1.0,\n            'f': \"1.0\",\n        }]],\n        columns: [[\"string\", \"index\"], [\"number\", \"age\"], [\"number\", \"hypertension\"], [\"number\", \"heart_disease\"], [\"number\", \"avg_glucose_level\"], [\"number\", \"bmi\"], [\"number\", \"stroke\"]],\n        columnOptions: [{\"width\": \"1px\", \"className\": \"index_column\"}],\n        rowsPerPage: 25,\n        helpUrl: \"https://colab.research.google.com/notebooks/data_table.ipynb\",\n        suppressOutputScrolling: true,\n        minimumWidth: undefined,\n      });\n    ",
            "text/html": [
              "<div>\n",
              "<style scoped>\n",
              "    .dataframe tbody tr th:only-of-type {\n",
              "        vertical-align: middle;\n",
              "    }\n",
              "\n",
              "    .dataframe tbody tr th {\n",
              "        vertical-align: top;\n",
              "    }\n",
              "\n",
              "    .dataframe thead th {\n",
              "        text-align: right;\n",
              "    }\n",
              "</style>\n",
              "<table border=\"1\" class=\"dataframe\">\n",
              "  <thead>\n",
              "    <tr style=\"text-align: right;\">\n",
              "      <th></th>\n",
              "      <th>age</th>\n",
              "      <th>hypertension</th>\n",
              "      <th>heart_disease</th>\n",
              "      <th>avg_glucose_level</th>\n",
              "      <th>bmi</th>\n",
              "      <th>stroke</th>\n",
              "    </tr>\n",
              "  </thead>\n",
              "  <tbody>\n",
              "    <tr>\n",
              "      <th>count</th>\n",
              "      <td>5110.000000</td>\n",
              "      <td>5110.000000</td>\n",
              "      <td>5110.000000</td>\n",
              "      <td>5110.000000</td>\n",
              "      <td>4909.000000</td>\n",
              "      <td>5110.000000</td>\n",
              "    </tr>\n",
              "    <tr>\n",
              "      <th>mean</th>\n",
              "      <td>43.226614</td>\n",
              "      <td>0.097456</td>\n",
              "      <td>0.054012</td>\n",
              "      <td>106.147677</td>\n",
              "      <td>28.893237</td>\n",
              "      <td>0.048728</td>\n",
              "    </tr>\n",
              "    <tr>\n",
              "      <th>std</th>\n",
              "      <td>22.612647</td>\n",
              "      <td>0.296607</td>\n",
              "      <td>0.226063</td>\n",
              "      <td>45.283560</td>\n",
              "      <td>7.854067</td>\n",
              "      <td>0.215320</td>\n",
              "    </tr>\n",
              "    <tr>\n",
              "      <th>min</th>\n",
              "      <td>0.080000</td>\n",
              "      <td>0.000000</td>\n",
              "      <td>0.000000</td>\n",
              "      <td>55.120000</td>\n",
              "      <td>10.300000</td>\n",
              "      <td>0.000000</td>\n",
              "    </tr>\n",
              "    <tr>\n",
              "      <th>25%</th>\n",
              "      <td>25.000000</td>\n",
              "      <td>0.000000</td>\n",
              "      <td>0.000000</td>\n",
              "      <td>77.245000</td>\n",
              "      <td>23.500000</td>\n",
              "      <td>0.000000</td>\n",
              "    </tr>\n",
              "    <tr>\n",
              "      <th>50%</th>\n",
              "      <td>45.000000</td>\n",
              "      <td>0.000000</td>\n",
              "      <td>0.000000</td>\n",
              "      <td>91.885000</td>\n",
              "      <td>28.100000</td>\n",
              "      <td>0.000000</td>\n",
              "    </tr>\n",
              "    <tr>\n",
              "      <th>75%</th>\n",
              "      <td>61.000000</td>\n",
              "      <td>0.000000</td>\n",
              "      <td>0.000000</td>\n",
              "      <td>114.090000</td>\n",
              "      <td>33.100000</td>\n",
              "      <td>0.000000</td>\n",
              "    </tr>\n",
              "    <tr>\n",
              "      <th>max</th>\n",
              "      <td>82.000000</td>\n",
              "      <td>1.000000</td>\n",
              "      <td>1.000000</td>\n",
              "      <td>271.740000</td>\n",
              "      <td>97.600000</td>\n",
              "      <td>1.000000</td>\n",
              "    </tr>\n",
              "  </tbody>\n",
              "</table>\n",
              "</div>"
            ],
            "text/plain": [
              "               age  hypertension  ...          bmi       stroke\n",
              "count  5110.000000   5110.000000  ...  4909.000000  5110.000000\n",
              "mean     43.226614      0.097456  ...    28.893237     0.048728\n",
              "std      22.612647      0.296607  ...     7.854067     0.215320\n",
              "min       0.080000      0.000000  ...    10.300000     0.000000\n",
              "25%      25.000000      0.000000  ...    23.500000     0.000000\n",
              "50%      45.000000      0.000000  ...    28.100000     0.000000\n",
              "75%      61.000000      0.000000  ...    33.100000     0.000000\n",
              "max      82.000000      1.000000  ...    97.600000     1.000000\n",
              "\n",
              "[8 rows x 6 columns]"
            ]
          },
          "metadata": {},
          "execution_count": 4
        }
      ]
    },
    {
      "cell_type": "markdown",
      "metadata": {
        "id": "ZcqOvRkVnJ2d"
      },
      "source": [
        "Lets observe the distribution of various features in the dataset"
      ]
    },
    {
      "cell_type": "code",
      "metadata": {
        "id": "uH8IzNSplWWK",
        "colab": {
          "base_uri": "https://localhost:8080/",
          "height": 194
        },
        "outputId": "8e104540-56c1-4572-8641-24bab8aa5fbc"
      },
      "source": [
        "df.head()"
      ],
      "execution_count": 5,
      "outputs": [
        {
          "output_type": "execute_result",
          "data": {
            "application/vnd.google.colaboratory.module+javascript": "\n      import \"https://ssl.gstatic.com/colaboratory/data_table/a6224c040fa35dcf/data_table.js\";\n\n      window.createDataTable({\n        data: [[{\n            'v': 0,\n            'f': \"0\",\n        },\n\"Male\",\n{\n            'v': 67.0,\n            'f': \"67.0\",\n        },\n{\n            'v': 0,\n            'f': \"0\",\n        },\n{\n            'v': 1,\n            'f': \"1\",\n        },\n\"Yes\",\n\"Private\",\n\"Urban\",\n{\n            'v': 228.69,\n            'f': \"228.69\",\n        },\n{\n            'v': 36.6,\n            'f': \"36.6\",\n        },\n\"formerly smoked\",\n{\n            'v': 1,\n            'f': \"1\",\n        }],\n [{\n            'v': 1,\n            'f': \"1\",\n        },\n\"Female\",\n{\n            'v': 61.0,\n            'f': \"61.0\",\n        },\n{\n            'v': 0,\n            'f': \"0\",\n        },\n{\n            'v': 0,\n            'f': \"0\",\n        },\n\"Yes\",\n\"Self-employed\",\n\"Rural\",\n{\n            'v': 202.21,\n            'f': \"202.21\",\n        },\n{\n            'v': NaN,\n            'f': \"NaN\",\n        },\n\"never smoked\",\n{\n            'v': 1,\n            'f': \"1\",\n        }],\n [{\n            'v': 2,\n            'f': \"2\",\n        },\n\"Male\",\n{\n            'v': 80.0,\n            'f': \"80.0\",\n        },\n{\n            'v': 0,\n            'f': \"0\",\n        },\n{\n            'v': 1,\n            'f': \"1\",\n        },\n\"Yes\",\n\"Private\",\n\"Rural\",\n{\n            'v': 105.92,\n            'f': \"105.92\",\n        },\n{\n            'v': 32.5,\n            'f': \"32.5\",\n        },\n\"never smoked\",\n{\n            'v': 1,\n            'f': \"1\",\n        }],\n [{\n            'v': 3,\n            'f': \"3\",\n        },\n\"Female\",\n{\n            'v': 49.0,\n            'f': \"49.0\",\n        },\n{\n            'v': 0,\n            'f': \"0\",\n        },\n{\n            'v': 0,\n            'f': \"0\",\n        },\n\"Yes\",\n\"Private\",\n\"Urban\",\n{\n            'v': 171.23,\n            'f': \"171.23\",\n        },\n{\n            'v': 34.4,\n            'f': \"34.4\",\n        },\n\"smokes\",\n{\n            'v': 1,\n            'f': \"1\",\n        }],\n [{\n            'v': 4,\n            'f': \"4\",\n        },\n\"Female\",\n{\n            'v': 79.0,\n            'f': \"79.0\",\n        },\n{\n            'v': 1,\n            'f': \"1\",\n        },\n{\n            'v': 0,\n            'f': \"0\",\n        },\n\"Yes\",\n\"Self-employed\",\n\"Rural\",\n{\n            'v': 174.12,\n            'f': \"174.12\",\n        },\n{\n            'v': 24.0,\n            'f': \"24.0\",\n        },\n\"never smoked\",\n{\n            'v': 1,\n            'f': \"1\",\n        }]],\n        columns: [[\"number\", \"index\"], [\"string\", \"gender\"], [\"number\", \"age\"], [\"number\", \"hypertension\"], [\"number\", \"heart_disease\"], [\"string\", \"ever_married\"], [\"string\", \"work_type\"], [\"string\", \"Residence_type\"], [\"number\", \"avg_glucose_level\"], [\"number\", \"bmi\"], [\"string\", \"smoking_status\"], [\"number\", \"stroke\"]],\n        columnOptions: [{\"width\": \"1px\", \"className\": \"index_column\"}],\n        rowsPerPage: 25,\n        helpUrl: \"https://colab.research.google.com/notebooks/data_table.ipynb\",\n        suppressOutputScrolling: true,\n        minimumWidth: undefined,\n      });\n    ",
            "text/html": [
              "<div>\n",
              "<style scoped>\n",
              "    .dataframe tbody tr th:only-of-type {\n",
              "        vertical-align: middle;\n",
              "    }\n",
              "\n",
              "    .dataframe tbody tr th {\n",
              "        vertical-align: top;\n",
              "    }\n",
              "\n",
              "    .dataframe thead th {\n",
              "        text-align: right;\n",
              "    }\n",
              "</style>\n",
              "<table border=\"1\" class=\"dataframe\">\n",
              "  <thead>\n",
              "    <tr style=\"text-align: right;\">\n",
              "      <th></th>\n",
              "      <th>gender</th>\n",
              "      <th>age</th>\n",
              "      <th>hypertension</th>\n",
              "      <th>heart_disease</th>\n",
              "      <th>ever_married</th>\n",
              "      <th>work_type</th>\n",
              "      <th>Residence_type</th>\n",
              "      <th>avg_glucose_level</th>\n",
              "      <th>bmi</th>\n",
              "      <th>smoking_status</th>\n",
              "      <th>stroke</th>\n",
              "    </tr>\n",
              "  </thead>\n",
              "  <tbody>\n",
              "    <tr>\n",
              "      <th>0</th>\n",
              "      <td>Male</td>\n",
              "      <td>67.0</td>\n",
              "      <td>0</td>\n",
              "      <td>1</td>\n",
              "      <td>Yes</td>\n",
              "      <td>Private</td>\n",
              "      <td>Urban</td>\n",
              "      <td>228.69</td>\n",
              "      <td>36.6</td>\n",
              "      <td>formerly smoked</td>\n",
              "      <td>1</td>\n",
              "    </tr>\n",
              "    <tr>\n",
              "      <th>1</th>\n",
              "      <td>Female</td>\n",
              "      <td>61.0</td>\n",
              "      <td>0</td>\n",
              "      <td>0</td>\n",
              "      <td>Yes</td>\n",
              "      <td>Self-employed</td>\n",
              "      <td>Rural</td>\n",
              "      <td>202.21</td>\n",
              "      <td>NaN</td>\n",
              "      <td>never smoked</td>\n",
              "      <td>1</td>\n",
              "    </tr>\n",
              "    <tr>\n",
              "      <th>2</th>\n",
              "      <td>Male</td>\n",
              "      <td>80.0</td>\n",
              "      <td>0</td>\n",
              "      <td>1</td>\n",
              "      <td>Yes</td>\n",
              "      <td>Private</td>\n",
              "      <td>Rural</td>\n",
              "      <td>105.92</td>\n",
              "      <td>32.5</td>\n",
              "      <td>never smoked</td>\n",
              "      <td>1</td>\n",
              "    </tr>\n",
              "    <tr>\n",
              "      <th>3</th>\n",
              "      <td>Female</td>\n",
              "      <td>49.0</td>\n",
              "      <td>0</td>\n",
              "      <td>0</td>\n",
              "      <td>Yes</td>\n",
              "      <td>Private</td>\n",
              "      <td>Urban</td>\n",
              "      <td>171.23</td>\n",
              "      <td>34.4</td>\n",
              "      <td>smokes</td>\n",
              "      <td>1</td>\n",
              "    </tr>\n",
              "    <tr>\n",
              "      <th>4</th>\n",
              "      <td>Female</td>\n",
              "      <td>79.0</td>\n",
              "      <td>1</td>\n",
              "      <td>0</td>\n",
              "      <td>Yes</td>\n",
              "      <td>Self-employed</td>\n",
              "      <td>Rural</td>\n",
              "      <td>174.12</td>\n",
              "      <td>24.0</td>\n",
              "      <td>never smoked</td>\n",
              "      <td>1</td>\n",
              "    </tr>\n",
              "  </tbody>\n",
              "</table>\n",
              "</div>"
            ],
            "text/plain": [
              "   gender   age  hypertension  ...   bmi   smoking_status stroke\n",
              "0    Male  67.0             0  ...  36.6  formerly smoked      1\n",
              "1  Female  61.0             0  ...   NaN     never smoked      1\n",
              "2    Male  80.0             0  ...  32.5     never smoked      1\n",
              "3  Female  49.0             0  ...  34.4           smokes      1\n",
              "4  Female  79.0             1  ...  24.0     never smoked      1\n",
              "\n",
              "[5 rows x 11 columns]"
            ]
          },
          "metadata": {},
          "execution_count": 5
        }
      ]
    },
    {
      "cell_type": "code",
      "metadata": {
        "colab": {
          "base_uri": "https://localhost:8080/",
          "height": 152
        },
        "id": "khJIp9YkFd14",
        "outputId": "b8f9ee60-921f-4012-ff04-a725abe31eed"
      },
      "source": [
        "df.groupby('gender').mean()"
      ],
      "execution_count": 6,
      "outputs": [
        {
          "output_type": "execute_result",
          "data": {
            "application/vnd.google.colaboratory.module+javascript": "\n      import \"https://ssl.gstatic.com/colaboratory/data_table/a6224c040fa35dcf/data_table.js\";\n\n      window.createDataTable({\n        data: [[\"Female\",\n{\n            'v': 43.75739478957918,\n            'f': \"43.75739478957918\",\n        },\n{\n            'v': 0.09218436873747494,\n            'f': \"0.09218436873747494\",\n        },\n{\n            'v': 0.03774215096860387,\n            'f': \"0.03774215096860387\",\n        },\n{\n            'v': 104.05780895123563,\n            'f': \"104.05780895123563\",\n        },\n{\n            'v': 29.065757680359038,\n            'f': \"29.065757680359038\",\n        },\n{\n            'v': 0.047094188376753505,\n            'f': \"0.047094188376753505\",\n        }],\n [\"Male\",\n{\n            'v': 42.48338534278962,\n            'f': \"42.48338534278962\",\n        },\n{\n            'v': 0.1049645390070922,\n            'f': \"0.1049645390070922\",\n        },\n{\n            'v': 0.07706855791962175,\n            'f': \"0.07706855791962175\",\n        },\n{\n            'v': 109.0885200945626,\n            'f': \"109.0885200945626\",\n        },\n{\n            'v': 28.647936350074616,\n            'f': \"28.647936350074616\",\n        },\n{\n            'v': 0.05106382978723404,\n            'f': \"0.05106382978723404\",\n        }],\n [\"Other\",\n{\n            'v': 26.0,\n            'f': \"26.0\",\n        },\n{\n            'v': 0.0,\n            'f': \"0.0\",\n        },\n{\n            'v': 0.0,\n            'f': \"0.0\",\n        },\n{\n            'v': 143.33,\n            'f': \"143.33\",\n        },\n{\n            'v': 22.4,\n            'f': \"22.4\",\n        },\n{\n            'v': 0.0,\n            'f': \"0.0\",\n        }]],\n        columns: [[\"string\", \"gender\"], [\"number\", \"age\"], [\"number\", \"hypertension\"], [\"number\", \"heart_disease\"], [\"number\", \"avg_glucose_level\"], [\"number\", \"bmi\"], [\"number\", \"stroke\"]],\n        columnOptions: [{\"width\": \"1px\", \"className\": \"index_column\"}],\n        rowsPerPage: 25,\n        helpUrl: \"https://colab.research.google.com/notebooks/data_table.ipynb\",\n        suppressOutputScrolling: true,\n        minimumWidth: undefined,\n      });\n    ",
            "text/html": [
              "<div>\n",
              "<style scoped>\n",
              "    .dataframe tbody tr th:only-of-type {\n",
              "        vertical-align: middle;\n",
              "    }\n",
              "\n",
              "    .dataframe tbody tr th {\n",
              "        vertical-align: top;\n",
              "    }\n",
              "\n",
              "    .dataframe thead th {\n",
              "        text-align: right;\n",
              "    }\n",
              "</style>\n",
              "<table border=\"1\" class=\"dataframe\">\n",
              "  <thead>\n",
              "    <tr style=\"text-align: right;\">\n",
              "      <th></th>\n",
              "      <th>age</th>\n",
              "      <th>hypertension</th>\n",
              "      <th>heart_disease</th>\n",
              "      <th>avg_glucose_level</th>\n",
              "      <th>bmi</th>\n",
              "      <th>stroke</th>\n",
              "    </tr>\n",
              "    <tr>\n",
              "      <th>gender</th>\n",
              "      <th></th>\n",
              "      <th></th>\n",
              "      <th></th>\n",
              "      <th></th>\n",
              "      <th></th>\n",
              "      <th></th>\n",
              "    </tr>\n",
              "  </thead>\n",
              "  <tbody>\n",
              "    <tr>\n",
              "      <th>Female</th>\n",
              "      <td>43.757395</td>\n",
              "      <td>0.092184</td>\n",
              "      <td>0.037742</td>\n",
              "      <td>104.057809</td>\n",
              "      <td>29.065758</td>\n",
              "      <td>0.047094</td>\n",
              "    </tr>\n",
              "    <tr>\n",
              "      <th>Male</th>\n",
              "      <td>42.483385</td>\n",
              "      <td>0.104965</td>\n",
              "      <td>0.077069</td>\n",
              "      <td>109.088520</td>\n",
              "      <td>28.647936</td>\n",
              "      <td>0.051064</td>\n",
              "    </tr>\n",
              "    <tr>\n",
              "      <th>Other</th>\n",
              "      <td>26.000000</td>\n",
              "      <td>0.000000</td>\n",
              "      <td>0.000000</td>\n",
              "      <td>143.330000</td>\n",
              "      <td>22.400000</td>\n",
              "      <td>0.000000</td>\n",
              "    </tr>\n",
              "  </tbody>\n",
              "</table>\n",
              "</div>"
            ],
            "text/plain": [
              "              age  hypertension  ...        bmi    stroke\n",
              "gender                           ...                     \n",
              "Female  43.757395      0.092184  ...  29.065758  0.047094\n",
              "Male    42.483385      0.104965  ...  28.647936  0.051064\n",
              "Other   26.000000      0.000000  ...  22.400000  0.000000\n",
              "\n",
              "[3 rows x 6 columns]"
            ]
          },
          "metadata": {},
          "execution_count": 6
        }
      ]
    },
    {
      "cell_type": "code",
      "metadata": {
        "id": "IiRTaV-XF0HO"
      },
      "source": [
        "# Replacing missing NA values in 'bmi' with their mean bmi of their gender\n",
        "F_missing_bmi_index = df[(df.gender == 'Female') & (df.bmi.isna())].index\n",
        "df.loc[F_missing_bmi_index, 'bmi'] = 29\n",
        "\n",
        "M_missing_bmi_index = df[(df.gender == 'Male') & (df.bmi.isna())].index\n",
        "df.loc[M_missing_bmi_index, 'bmi'] = 28"
      ],
      "execution_count": 7,
      "outputs": []
    },
    {
      "cell_type": "code",
      "metadata": {
        "id": "WeLUCPQGcZbh"
      },
      "source": [
        "# Removing the one instance where gender is 'Other' \n",
        "other_index = df[df['gender'] =='Other'].index\n",
        "df = df.drop(other_index)"
      ],
      "execution_count": 8,
      "outputs": []
    },
    {
      "cell_type": "markdown",
      "metadata": {
        "id": "16wy-MgvLBN3"
      },
      "source": [
        "# Visualizing features"
      ]
    },
    {
      "cell_type": "code",
      "metadata": {
        "colab": {
          "base_uri": "https://localhost:8080/",
          "height": 920
        },
        "id": "1qqzZxiCWfPq",
        "outputId": "3199da93-87e5-4234-ec9e-e511df9803e0"
      },
      "source": [
        "plt.figure(figsize=(22,16))\n",
        "plt.subplot(3,3,1)\n",
        "sns.countplot(x=df['gender'], alpha=0.75, palette=\"Set1\", label='');\n",
        "plt.tick_params(axis='both', which='both', bottom=False, left=True, right=False, top=False, labelbottom=True, labelleft=True);\n",
        "sns.despine(fig=None, ax=None, top=True, right=True, left=False, bottom=True, offset=None, trim=False);\n",
        "plt.xlabel('')\n",
        "plt.title('Gender, F/M : 59/41 %');\n",
        "\n",
        "\n",
        "plt.subplot(3,3,2)\n",
        "sns.countplot(x=df['smoking_status'], alpha=0.8, palette=\"Set2\", label='Smoker', );\n",
        "sns.despine(fig=None, ax=None, top=True, right=True, left=False, bottom=True, offset=None, trim=False);\n",
        "plt.xlabel('');\n",
        "plt.title('Smoking Status');\n",
        "\n",
        "\n",
        "plt.subplot(3,3,3)\n",
        "sns.countplot(x=df['hypertension'], alpha=0.75, palette=\"Set2\", label='hypertension', );\n",
        "sns.despine(fig=None, ax=None, top=True, right=True, left=False, bottom=True, offset=None, trim=False);\n",
        "plt.xlabel('');\n",
        "plt.title('Hypertension');\n",
        "\n",
        "plt.subplot(3,3,4)\n",
        "sns.countplot(x=df['Residence_type'], alpha=0.75, palette=\"Set2\", label='Residence Type', );\n",
        "sns.despine(fig=None, ax=None, top=True, right=True, left=False, bottom=True, offset=None, trim=False);\n",
        "plt.xlabel('');\n",
        "plt.title('Residence Type');\n",
        "\n",
        "plt.subplot(3,3,5)\n",
        "sns.countplot(x=df['work_type'], alpha=0.8, palette=\"Set2\", label='Work Type');\n",
        "sns.despine(fig=None, ax=None, top=True, right=True, left=False, bottom=True, offset=None, trim=False);\n",
        "plt.xlabel('');\n",
        "plt.title('Work Type');\n",
        "\n",
        "plt.subplot(3,3,6)\n",
        "sns.countplot(x=df['heart_disease'], alpha=0.75, palette=\"Set2\", label='Heart Disease');\n",
        "sns.despine(fig=None, ax=None, top=True, right=True, left=False, bottom=True, offset=None, trim=False);\n",
        "plt.xlabel('');\n",
        "plt.title('Heart Disease');\n",
        "\n",
        "plt.subplot(3,3,7)\n",
        "sns.kdeplot(x=df['age'], alpha=0.3, palette=\"Set1\", label='Smoker', fill=True, hue=df['gender']);\n",
        "sns.despine(fig=None, ax=None, top=True, right=True, left=False, bottom=True, offset=None, trim=False);\n",
        "plt.xlabel('');\n",
        "plt.title('Age Distribution');\n",
        "\n",
        "plt.subplot(3,3,8)\n",
        "sns.kdeplot(x=df['avg_glucose_level'], alpha=0.2, palette=\"Set1\", label='avg_glucose_level', fill=True, hue=df['gender']);\n",
        "sns.despine(fig=None, ax=None, top=True, right=True, left=False, bottom=True, offset=None, trim=False);\n",
        "plt.xlabel('');\n",
        "plt.title('Average Glucose Level');\n",
        "\n",
        "plt.subplot(3,3,9)\n",
        "sns.kdeplot(x=df['bmi'], alpha=0.2, palette=\"Set1\", label='BMI', fill=True, hue=df['gender']);\n",
        "sns.despine(fig=None, ax=None, top=True, right=True, left=False, bottom=True, offset=None, trim=False);\n",
        "plt.xlabel('');\n",
        "plt.title('BMI');\n",
        "\n",
        "plt.tight_layout()"
      ],
      "execution_count": 9,
      "outputs": [
        {
          "output_type": "display_data",
          "data": {
            "image/png": "[encoded data removed]",
            "text/plain": [
              "<Figure size 1584x1152 with 9 Axes>"
            ]
          },
          "metadata": {
            "needs_background": "light"
          }
        }
      ]
    },
    {
      "cell_type": "code",
      "metadata": {
        "colab": {
          "base_uri": "https://localhost:8080/",
          "height": 0
        },
        "id": "pyPmnV1VGLd0",
        "outputId": "f68d5f60-cfb9-4c02-9b48-eda8e2447be0"
      },
      "source": [
        "# checking imbalances in class {1: stroke, 0:no stroke}\n",
        "df['stroke'].value_counts()"
      ],
      "execution_count": 10,
      "outputs": [
        {
          "output_type": "execute_result",
          "data": {
            "text/plain": [
              "0    4860\n",
              "1     249\n",
              "Name: stroke, dtype: int64"
            ]
          },
          "metadata": {},
          "execution_count": 10
        }
      ]
    },
    {
      "cell_type": "markdown",
      "metadata": {
        "id": "i4NKYR5TM5oh"
      },
      "source": [
        "# Preprocessing Data"
      ]
    },
    {
      "cell_type": "code",
      "metadata": {
        "id": "Jc4sGW-871cP"
      },
      "source": [
        "# Encoding categorical values\n",
        "\n",
        "df['gender'] = df['gender'].replace({'Male':0,'Female':1,'Other':-1}).astype(np.uint8)\n",
        "df['Residence_type'] = df['Residence_type'].replace({'Rural':0,'Urban':1}).astype(np.uint8)\n",
        "df['work_type'] = df['work_type'].replace({'Private':0,'Self-employed':1,'Govt_job':2,'children':-1,'Never_worked':-2}).astype(np.uint8)\n",
        "df['ever_married'] = df['ever_married'].replace({'Yes':1, 'No':0}).astype(np.uint8)\n",
        "df['smoking_status'] = df['smoking_status'].replace({'never smoked':0,'Unknown':1,'formerly smoked':2,'smokes':-1}).astype(np.uint8)"
      ],
      "execution_count": 11,
      "outputs": []
    },
    {
      "cell_type": "code",
      "metadata": {
        "id": "3td3Az2vAruR"
      },
      "source": [
        "X = df.drop('stroke', axis=1)\n",
        "y = df.pop('stroke')"
      ],
      "execution_count": 12,
      "outputs": []
    },
    {
      "cell_type": "markdown",
      "metadata": {
        "id": "IT6adtcoD1ry"
      },
      "source": [
        "# SVM Model"
      ]
    },
    {
      "cell_type": "code",
      "metadata": {
        "id": "pYRoQUnzAPJH"
      },
      "source": [
        "from sklearn.preprocessing import StandardScaler,LabelEncoder\n",
        "from sklearn.model_selection import train_test_split,cross_val_score\n",
        "from sklearn.pipeline import Pipeline\n",
        "from sklearn.svm import SVC"
      ],
      "execution_count": 13,
      "outputs": []
    },
    {
      "cell_type": "code",
      "metadata": {
        "id": "WwfcMcuX8OK6"
      },
      "source": [
        "svm_pipeline = Pipeline(steps = [('scale',StandardScaler()),('SVM',SVC(C=0.01,gamma=0.1, random_state=42, probability=True))])"
      ],
      "execution_count": 14,
      "outputs": []
    },
    {
      "cell_type": "code",
      "metadata": {
        "id": "UmGcbKSmrLtv"
      },
      "source": [
        "from sklearn.model_selection import train_test_split\n",
        "\n",
        "X_train, X_test, y_train, y_test =  train_test_split(X, y)"
      ],
      "execution_count": 15,
      "outputs": []
    },
    {
      "cell_type": "code",
      "metadata": {
        "colab": {
          "base_uri": "https://localhost:8080/",
          "height": 0
        },
        "id": "ZYzUq4_9BQbg",
        "outputId": "c5b2b6d8-8d09-48ce-a31d-c2e050455e3a"
      },
      "source": [
        "# Our data is biased, we can fix this with SMOTE\n",
        "from imblearn.over_sampling import SMOTE\n",
        "\n",
        "oversample = SMOTE()\n",
        "X_train_resh, y_train_resh = oversample.fit_resample(X_train, y_train.ravel())"
      ],
      "execution_count": 16,
      "outputs": [
        {
          "output_type": "stream",
          "name": "stderr",
          "text": [
            "/usr/local/lib/python3.7/dist-packages/sklearn/externals/six.py:31: FutureWarning: The module is deprecated in version 0.21 and will be removed in version 0.23 since we've dropped support for Python 2.7. Please rely on the official version of six (https://pypi.org/project/six/).\n",
            "  \"(https://pypi.org/project/six/).\", FutureWarning)\n",
            "/usr/local/lib/python3.7/dist-packages/sklearn/utils/deprecation.py:144: FutureWarning: The sklearn.neighbors.base module is  deprecated in version 0.22 and will be removed in version 0.24. The corresponding classes / functions should instead be imported from sklearn.neighbors. Anything that cannot be imported from sklearn.neighbors is now part of the private API.\n",
            "  warnings.warn(message, FutureWarning)\n",
            "/usr/local/lib/python3.7/dist-packages/sklearn/utils/deprecation.py:87: FutureWarning: Function safe_indexing is deprecated; safe_indexing is deprecated in version 0.22 and will be removed in version 0.24.\n",
            "  warnings.warn(msg, category=FutureWarning)\n"
          ]
        }
      ]
    },
    {
      "cell_type": "code",
      "metadata": {
        "colab": {
          "base_uri": "https://localhost:8080/",
          "height": 0
        },
        "id": "FW13BIWMAW_4",
        "outputId": "bc000e82-f8da-45aa-a562-03a323888bcc"
      },
      "source": [
        "svm_cv = cross_val_score(svm_pipeline,X_train_resh,y_train_resh,cv=10,scoring='f1')\n",
        "svm_cv.mean()"
      ],
      "execution_count": 17,
      "outputs": [
        {
          "output_type": "execute_result",
          "data": {
            "text/plain": [
              "0.8167291953412967"
            ]
          },
          "metadata": {},
          "execution_count": 17
        }
      ]
    },
    {
      "cell_type": "markdown",
      "metadata": {
        "id": "qTYEBOmn6YpD"
      },
      "source": [
        "# Model Evaluation"
      ]
    },
    {
      "cell_type": "code",
      "metadata": {
        "colab": {
          "base_uri": "https://localhost:8080/",
          "height": 0
        },
        "id": "9zJlRAoMCvet",
        "outputId": "107e3b61-bd59-415f-8e64-8ad1ce30c0b9"
      },
      "source": [
        "from sklearn.metrics import confusion_matrix\n",
        "\n",
        "svm_pipeline.fit(X_train_resh,y_train_resh);\n",
        "svm_pred  = svm_pipeline.predict(X_test)\n",
        "svm_cm = confusion_matrix(y_test,svm_pred)\n",
        "svm_cm"
      ],
      "execution_count": 18,
      "outputs": [
        {
          "output_type": "execute_result",
          "data": {
            "text/plain": [
              "array([[843, 370],\n",
              "       [ 14,  51]])"
            ]
          },
          "metadata": {},
          "execution_count": 18
        }
      ]
    },
    {
      "cell_type": "code",
      "metadata": {
        "colab": {
          "base_uri": "https://localhost:8080/",
          "height": 608
        },
        "id": "Zg9HW1rHLY6i",
        "outputId": "0467e874-6615-47ad-a0f5-2ac904fba7d0"
      },
      "source": [
        "from sklearn.metrics import roc_curve, auc\n",
        "fpr_lr, tpr_lr, _ = roc_curve(y_test, svm_pipeline.predict_proba(X_test)[:,1])\n",
        "\n",
        "plt.figure(figsize=(12,8));\n",
        "\n",
        "plt.plot(fpr_lr, tpr_lr);\n",
        "plt.xlabel('False Positive Rate', fontsize=16);\n",
        "plt.ylabel('True Positive Rate', fontsize=16);\n",
        "plt.title('ROC curve', fontsize=16);\n",
        "plt.legend(loc='lower right', fontsize=13);\n",
        "plt.plot([0, 1], [0, 1], color='navy', lw=3, linestyle='--');\n",
        "plt.axes().set_aspect('equal');\n",
        "\n",
        "print('Auc : ', auc(fpr_lr, tpr_lr))"
      ],
      "execution_count": 19,
      "outputs": [
        {
          "output_type": "stream",
          "name": "stderr",
          "text": [
            "No handles with labels found to put in legend.\n",
            "/usr/local/lib/python3.7/dist-packages/ipykernel_launcher.py:12: MatplotlibDeprecationWarning: Adding an axes using the same arguments as a previous axes currently reuses the earlier instance.  In a future version, a new instance will always be created and returned.  Meanwhile, this warning can be suppressed, and the future behavior ensured, by passing a unique label to each axes instance.\n",
            "  if sys.path[0] == '':\n"
          ]
        },
        {
          "output_type": "stream",
          "name": "stdout",
          "text": [
            "Auc :  0.8176675756230579\n"
          ]
        },
        {
          "output_type": "display_data",
          "data": {
            "image/png": "[encoded data removed]",
            "text/plain": [
              "<Figure size 864x576 with 1 Axes>"
            ]
          },
          "metadata": {
            "needs_background": "light"
          }
        }
      ]
    },
    {
      "cell_type": "code",
      "metadata": {
        "colab": {
          "base_uri": "https://localhost:8080/",
          "height": 0
        },
        "id": "PZObExnyKhCs",
        "outputId": "87fa138b-f4e5-4492-a5be-97a063731c92"
      },
      "source": [
        "from sklearn.metrics import classification_report\n",
        "print(classification_report(y_test, svm_pred))"
      ],
      "execution_count": 20,
      "outputs": [
        {
          "output_type": "stream",
          "name": "stdout",
          "text": [
            "              precision    recall  f1-score   support\n",
            "\n",
            "           0       0.98      0.69      0.81      1213\n",
            "           1       0.12      0.78      0.21        65\n",
            "\n",
            "    accuracy                           0.70      1278\n",
            "   macro avg       0.55      0.74      0.51      1278\n",
            "weighted avg       0.94      0.70      0.78      1278\n",
            "\n"
          ]
        }
      ]
    }
  ]
}